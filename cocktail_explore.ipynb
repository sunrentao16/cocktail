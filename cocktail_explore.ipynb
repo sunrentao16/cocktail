{
 "cells": [
  {
   "cell_type": "markdown",
   "metadata": {
    "slideshow": {
     "slide_type": "slide"
    }
   },
   "source": [
    "# Cocktail Recipe "
   ]
  },
  {
   "cell_type": "markdown",
   "metadata": {
    "slideshow": {
     "slide_type": "slide"
    }
   },
   "source": [
    "### Cocktail Recipe Data\n",
    "\n",
    "| Column names | name                   | rating | vote_count | instruction                                                                                                                                              |   | Nutrition                                    | Ingredients(1780)                                                                             |\n",
    "|--------------|------------------------|--------|------------|----------------------------------------------------------------------------------------------------------------------------------------------------------|---|----------------------------------------------|-----------------------------------------------------------------------------------------------|\n",
    "| Data eg.      | Long Island Tea recipe | 9.2    | 371        | Combine all ingredients (except cola) and pour over ice in a highball glass. Add the splash of cola for color. Decorate with a slice of lemon and serve. |   | 10 nutrition, like sugar,calorie, alcohol... | 1/2 oz vodka;1/2 oz light rum;1/2 oz gin;1/2 oz tequila juice; 1/2 lemons 1 splash Coca-Cola® |\n",
    "\n",
    "##### Dimension of data frame\n",
    "\n",
    "| num of rows | num of columns |\n",
    "|-------------|----------------|\n",
    "|  8095       | 1794           |\n",
    "\n",
    "\n",
    "### Explore Ingredients Network \n",
    "\n",
    "Build a network of ingredients to explore the relations between ingredients of cocktails. Add an edge between 2 ingredients if they apper in one cocktail; set the weight of edge to be frequency of the 2 ingredients appering in one cocktail.\n",
    "\n",
    "http://127.0.0.1:8228/index.html\n",
    "\n",
    "### Invent new cocktail using network\n",
    "\n",
    "\n",
    "### Try New Cocktail\n",
    "| Starting Ingredient|  |  |  |  |  |\n",
    "|----|-----------------|-------------|----------|-----|-------|\n",
    "|gin | sweet vermouth | orange bitters\n",
    "|gin | rum | vodka | lemon juice\n",
    "|gin | grenadine syrup | lime juice\n",
    "|gin | dry vermouth | Scotch whisky | lemon juice\n",
    "|gin | sweet and sour mix | 7-Up® soda | triple sec | cranberry juice | peach schnapps|\n",
    "|gin | lemon juice | brandy|  |   |   |\n",
    "|gin | grenadine syrup | pineapple juice | Midori® melon liqueur | Malibu® coconut rum|  |\n"
   ]
  },
  {
   "cell_type": "markdown",
   "metadata": {},
   "source": [
    "# Code\n",
    "\n",
    "## Predict rating"
   ]
  },
  {
   "cell_type": "code",
   "execution_count": 31,
   "metadata": {},
   "outputs": [],
   "source": [
    "import pandas as pd\n",
    "import numpy as np\n",
    "import scipy as sp\n",
    "import pickle\n",
    "from sklearn import base\n",
    "from sklearn.model_selection import train_test_split\n",
    "from sklearn.pipeline import Pipeline\n",
    "from sklearn.model_selection import GridSearchCV\n",
    "\n"
   ]
  },
  {
   "cell_type": "code",
   "execution_count": 2,
   "metadata": {
    "collapsed": true
   },
   "outputs": [],
   "source": [
    "# read pre-cleaned cocktail data\n",
    "with open(\"./data/cocktail_df_cleaned\", \"rb\") as f:\n",
    "    data_raw = pickle.load(f)"
   ]
  },
  {
   "cell_type": "code",
   "execution_count": 3,
   "metadata": {},
   "outputs": [
    {
     "name": "stdout",
     "output_type": "stream",
     "text": [
      "(8095, 1794) (8095,)\n",
      "(6476, 1794) (1619, 1794)\n"
     ]
    }
   ],
   "source": [
    "# delete rows without rating\n",
    "rating_tmp = data_raw.loc[:, 'rating']\n",
    "data_rating = data_raw.loc[~pd.isnull(rating_tmp),:]\n",
    "rating = rating_tmp[~pd.isnull(rating_tmp)]\n",
    "print data_rating.shape, rating.shape\n",
    "\n",
    "# split data for training and testing\n",
    "X_train, X_test, y_train, y_test = train_test_split(data_rating, rating,\n",
    "                                                   test_size=0.2,random_state=99)\n",
    "print X_train.shape, X_test.shape"
   ]
  },
  {
   "cell_type": "code",
   "execution_count": 4,
   "metadata": {
    "collapsed": true
   },
   "outputs": [],
   "source": [
    "# prepare data\n",
    "class prep_data(base.BaseEstimator, base.RegressorMixin):\n",
    "    def __init__(self):\n",
    "        pass\n",
    "        \n",
    "    def fit(self, X, y=None):\n",
    "        return self\n",
    "    \n",
    "    def transform(self, X):\n",
    "        column_names = X.columns.values\n",
    "        data_X = X.loc[:, column_names[14:]]\n",
    "        data_X = data_X.fillna(0)\n",
    "        \n",
    "        return data_X\n",
    "    \n",
    "# my Model \n",
    "class rating_est(base.BaseEstimator, base.RegressorMixin):\n",
    "    def __init__(self):\n",
    "        pass\n",
    "    \n",
    "    def fit(self, X, y=None):\n",
    "        return self"
   ]
  },
  {
   "cell_type": "code",
   "execution_count": 56,
   "metadata": {},
   "outputs": [
    {
     "data": {
      "text/plain": [
       "Pipeline(steps=[('prepare data', prep_data()), ('RF', RandomForestRegressor(bootstrap=True, criterion='mse', max_depth=None,\n",
       "           max_features='auto', max_leaf_nodes=None,\n",
       "           min_impurity_split=1e-07, min_samples_leaf=1,\n",
       "           min_samples_split=2, min_weight_fraction_leaf=0.0,\n",
       "           n_estimators=10, n_jobs=1, oob_score=False, random_state=None,\n",
       "           verbose=0, warm_start=False))])"
      ]
     },
     "execution_count": 56,
     "metadata": {},
     "output_type": "execute_result"
    }
   ],
   "source": [
    "from sklearn.linear_model import Ridge\n",
    "from sklearn.neighbors import KNeighborsRegressor\n",
    "from sklearn.ensemble import RandomForestRegressor\n",
    "\n",
    "rating_estimate = Pipeline([\n",
    "    ('prepare data', prep_data()),\n",
    "    #('KNN', KNeighborsRegressor())\n",
    "    #('Ridge', Ridge(alpha = 14))\n",
    "    ('RF', RandomForestRegressor())\n",
    "])\n",
    "rating_estimate"
   ]
  },
  {
   "cell_type": "markdown",
   "metadata": {},
   "source": [
    "## Create new cocktail recipe"
   ]
  },
  {
   "cell_type": "markdown",
   "metadata": {},
   "source": [
    "### Make network"
   ]
  },
  {
   "cell_type": "code",
   "execution_count": 33,
   "metadata": {
    "collapsed": true
   },
   "outputs": [],
   "source": [
    "%matplotlib inline\n",
    "\n",
    "import networkx as nx\n",
    "from itertools import combinations\n",
    "import matplotlib.pyplot as plt\n",
    "import matplotlib as mpl\n",
    "import pygraphviz as pgv\n",
    "\n",
    "# load data\n",
    "with open('./data/cocktail_df_cleaned', 'rb') as fp:\n",
    "    df_raw = pickle.load(fp)\n",
    "    \n",
    "# NetWorkX--------------------------\n",
    "ingredient_names = df_raw.columns.values.tolist()[14:] \n",
    "df_ing = df_raw.loc[:, ingredient_names].copy() # ingredient dataframe\n",
    "G = nx.Graph() # initialize the graph\n",
    "G.add_nodes_from(ingredient_names) # add nodes\n",
    "for n in G:\n",
    "    G.node[n]['name'] = n # add name attr to nodes\n",
    "# add edges\n",
    "for r in range(df_ing.shape[0]):\n",
    "    row = df_ing.loc[r] # current row\n",
    "    ing_names = row[~row.isnull()].index.tolist() # ingredients in current row\n",
    "    for c in combinations(range(len(ing_names)),2):\n",
    "        if G.has_edge(ing_names[c[0]], ing_names[c[1]]):\n",
    "            G[ing_names[c[0]]][ing_names[c[1]]]['weight'] += 1\n",
    "        else:\n",
    "            G.add_edge(ing_names[c[0]], ing_names[c[1]],{'weight':1})\n",
    "            \n",
    "# modify network--------------------------------#\n",
    "### remove edges with small weight\n",
    "rm_e = list() # edges to be removed\n",
    "for e in G.edges_iter():\n",
    "\tif G[e[0]][e[1]]['weight'] <= 5:\n",
    "\t\trm_e.append(e)\n",
    "G.remove_edges_from(rm_e) # delete edges\n",
    "### remove isolate nodes\n",
    "G.remove_nodes_from(nx.isolates(G))"
   ]
  },
  {
   "cell_type": "code",
   "execution_count": 36,
   "metadata": {},
   "outputs": [
    {
     "data": {
      "image/png": "[encoded data removed]",
      "text/plain": [
       "<matplotlib.figure.Figure at 0x7f8d1389f690>"
      ]
     },
     "metadata": {},
     "output_type": "display_data"
    }
   ],
   "source": [
    "from networkx.drawing.nx_agraph import graphviz_layout\n",
    "#A = nx.to_agraph(G)\n",
    "#nx.draw_spring(G)\n",
    "#nx.draw_graphviz(G)\n",
    "pos = graphviz_layout(G)\n",
    "nx.draw(G, pos)"
   ]
  },
  {
   "cell_type": "markdown",
   "metadata": {},
   "source": [
    "### Invent New Cocktail"
   ]
  },
  {
   "cell_type": "code",
   "execution_count": 71,
   "metadata": {
    "collapsed": true
   },
   "outputs": [],
   "source": [
    "# create new cocktail recipe\n",
    "def create_cocktail(G, start_ing):\n",
    "    import random\n",
    "    recipe = []\n",
    "    # set number of ingredient\n",
    "    num_ing = random.randrange(3,7,1)\n",
    "    curr = start_ing\n",
    "    for i in range(num_ing):\n",
    "        recipe.append(curr)\n",
    "        tmp = [(neb, G[curr][neb]['weight']) for neb in\n",
    "               G.neighbors(curr)]\n",
    "        tmp_sorted = sorted(tmp, key=lambda x:x[1], reverse=True)[:10]\n",
    "        next_ing = random.sample([(i,w) for i,w in tmp_sorted if i not in recipe],1)[0][0]\n",
    "        # jump to next iteration\n",
    "        curr = next_ing\n",
    "    return recipe            "
   ]
  },
  {
   "cell_type": "code",
   "execution_count": 73,
   "metadata": {},
   "outputs": [
    {
     "name": "stdout",
     "output_type": "stream",
     "text": [
      "gin | sweet vermouth | orange bitters\n",
      "gin | rum | vodka | lemon juice\n",
      "gin | grenadine syrup | lime juice\n",
      "gin | dry vermouth | Scotch whisky | lemon juice\n",
      "gin | sweet and sour mix | 7-Up® soda | triple sec | cranberry juice | peach schnapps\n",
      "gin | lemon juice | brandy\n",
      "gin | grenadine syrup | pineapple juice | Midori® melon liqueur | Malibu® coconut rum\n",
      "gin | dry vermouth | vodka\n",
      "gin | dry vermouth | brandy | sweet vermouth\n",
      "gin | grenadine syrup | triple sec\n"
     ]
    }
   ],
   "source": [
    "for i in range(10):\n",
    "    cocktail_recipe = create_cocktail(G, 'gin')\n",
    "    print ' | '.join(cocktail_recipe)"
   ]
  },
  {
   "cell_type": "code",
   "execution_count": 4,
   "metadata": {},
   "outputs": [
    {
     "name": "stdout",
     "output_type": "stream",
     "text": [
      "\n",
      "Go to http://127.0.0.1:8228/index.html \n",
      "\n",
      " * Running on http://127.0.0.1:8228/ (Press CTRL+C to quit)\n",
      "^C\n"
     ]
    }
   ],
   "source": [
    "# generate interactive graph\n",
    "!python cocktail_network_static_plot/cocktail_network_static.py"
   ]
  }
 ],
 "metadata": {
  "kernelspec": {
   "display_name": "Python 2",
   "language": "python",
   "name": "python2"
  },
  "language_info": {
   "codemirror_mode": {
    "name": "ipython",
    "version": 2
   },
   "file_extension": ".py",
   "mimetype": "text/x-python",
   "name": "python",
   "nbconvert_exporter": "python",
   "pygments_lexer": "ipython2",
   "version": "2.7.13"
  }
 },
 "nbformat": 4,
 "nbformat_minor": 2
}
